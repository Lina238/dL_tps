{
  "nbformat": 4,
  "nbformat_minor": 0,
  "metadata": {
    "colab": {
      "provenance": []
    },
    "kernelspec": {
      "name": "python3",
      "display_name": "Python 3"
    },
    "language_info": {
      "name": "python"
    }
  },
  "cells": [
    {
      "cell_type": "code",
      "execution_count": null,
      "metadata": {
        "colab": {
          "base_uri": "https://localhost:8080/"
        },
        "id": "JmfySOPYvhmd",
        "outputId": "2db4699e-dd52-43e6-e2de-69b4da02781d"
      },
      "outputs": [
        {
          "output_type": "stream",
          "name": "stdout",
          "text": [
            "Combats Dataset:\n",
            "   First_pokemon  Second_pokemon  Winner\n",
            "0            266             298     298\n",
            "1            702             701     701\n",
            "2            191             668     668\n",
            "3            237             683     683\n",
            "4            151             231     151\n",
            "\n",
            "Tests Dataset:\n",
            "   First_pokemon  Second_pokemon\n",
            "0            129             117\n",
            "1            660             211\n",
            "2            706             115\n",
            "3            195             618\n",
            "4             27             656\n",
            "\\pokedex Dataset:\n",
            "   NUMERO              NOM TYPE_1  TYPE_2  POINTS_DE_VIE  POINTS_ATTAQUE  \\\n",
            "0       1       Bulbizarre  Herbe  Poison             45              49   \n",
            "1       2       Herbizarre  Herbe  Poison             60              62   \n",
            "2       3       Florizarre  Herbe  Poison             80              82   \n",
            "3       4  Mega Florizarre  Herbe  Poison             80             100   \n",
            "4       5        Salamèche    Feu     NaN             39              52   \n",
            "\n",
            "   POINTS_DEFFENCE  POINTS_ATTAQUE_SPECIALE  POINT_DEFENSE_SPECIALE  \\\n",
            "0               49                       65                      65   \n",
            "1               63                       80                      80   \n",
            "2               83                      100                     100   \n",
            "3              123                      122                     120   \n",
            "4               43                       60                      50   \n",
            "\n",
            "   POINTS_VITESSE  NOMBRE_GENERATIONS LEGENDAIRE  \n",
            "0              45                   1       FAUX  \n",
            "1              60                   1       FAUX  \n",
            "2              80                   1       FAUX  \n",
            "3              80                   1       FAUX  \n",
            "4              65                   1       FAUX  \n",
            "\n",
            "Combats Dataset Info:\n",
            "<class 'pandas.core.frame.DataFrame'>\n",
            "RangeIndex: 50000 entries, 0 to 49999\n",
            "Data columns (total 3 columns):\n",
            " #   Column          Non-Null Count  Dtype\n",
            "---  ------          --------------  -----\n",
            " 0   First_pokemon   50000 non-null  int64\n",
            " 1   Second_pokemon  50000 non-null  int64\n",
            " 2   Winner          50000 non-null  int64\n",
            "dtypes: int64(3)\n",
            "memory usage: 1.1 MB\n",
            "None\n",
            "\n",
            "Tests Dataset Info:\n",
            "<class 'pandas.core.frame.DataFrame'>\n",
            "RangeIndex: 10000 entries, 0 to 9999\n",
            "Data columns (total 2 columns):\n",
            " #   Column          Non-Null Count  Dtype\n",
            "---  ------          --------------  -----\n",
            " 0   First_pokemon   10000 non-null  int64\n",
            " 1   Second_pokemon  10000 non-null  int64\n",
            "dtypes: int64(2)\n",
            "memory usage: 156.4 KB\n",
            "None\n",
            "\\pokedex Dataset Info:\n",
            "<class 'pandas.core.frame.DataFrame'>\n",
            "RangeIndex: 800 entries, 0 to 799\n",
            "Data columns (total 12 columns):\n",
            " #   Column                   Non-Null Count  Dtype \n",
            "---  ------                   --------------  ----- \n",
            " 0   NUMERO                   800 non-null    int64 \n",
            " 1   NOM                      799 non-null    object\n",
            " 2   TYPE_1                   800 non-null    object\n",
            " 3   TYPE_2                   413 non-null    object\n",
            " 4   POINTS_DE_VIE            800 non-null    int64 \n",
            " 5   POINTS_ATTAQUE           800 non-null    int64 \n",
            " 6   POINTS_DEFFENCE          800 non-null    int64 \n",
            " 7   POINTS_ATTAQUE_SPECIALE  800 non-null    int64 \n",
            " 8   POINT_DEFENSE_SPECIALE   800 non-null    int64 \n",
            " 9   POINTS_VITESSE           800 non-null    int64 \n",
            " 10  NOMBRE_GENERATIONS       800 non-null    int64 \n",
            " 11  LEGENDAIRE               800 non-null    object\n",
            "dtypes: int64(8), object(4)\n",
            "memory usage: 75.1+ KB\n",
            "None\n",
            "\n",
            "Missing Values in Combats Dataset:\n",
            "First_pokemon     0\n",
            "Second_pokemon    0\n",
            "Winner            0\n",
            "dtype: int64\n",
            "\n",
            "Missing Values in pokedex Dataset:\n",
            "NUMERO                       0\n",
            "NOM                          1\n",
            "TYPE_1                       0\n",
            "TYPE_2                     387\n",
            "POINTS_DE_VIE                0\n",
            "POINTS_ATTAQUE               0\n",
            "POINTS_DEFFENCE              0\n",
            "POINTS_ATTAQUE_SPECIALE      0\n",
            "POINT_DEFENSE_SPECIALE       0\n",
            "POINTS_VITESSE               0\n",
            "NOMBRE_GENERATIONS           0\n",
            "LEGENDAIRE                   0\n",
            "dtype: int64\n",
            "\n",
            "Missing Values in Tests Dataset:\n",
            "First_pokemon     0\n",
            "Second_pokemon    0\n",
            "dtype: int64\n"
          ]
        }
      ],
      "source": [
        "import pandas as pd\n",
        "import numpy as np\n",
        "import os\n",
        "\n",
        "combats_df = pd.read_csv('./combats.csv')\n",
        "tests_df = pd.read_csv('./tests.csv')\n",
        "pokedex_df = pd.read_csv('./pokedex.csv', delimiter=';')\n",
        "print(\"Combats Dataset:\")\n",
        "print(combats_df.head())\n",
        "print(\"\\nTests Dataset:\")\n",
        "print(tests_df.head())\n",
        "print(\"\\pokedex Dataset:\")\n",
        "print(pokedex_df.head())\n",
        "\n",
        "print(\"\\nCombats Dataset Info:\")\n",
        "print(combats_df.info())\n",
        "print(\"\\nTests Dataset Info:\")\n",
        "print(tests_df.info())\n",
        "print(\"\\pokedex Dataset Info:\")\n",
        "print(pokedex_df.info())\n",
        "\n",
        "print(\"\\nMissing Values in Combats Dataset:\")\n",
        "print(combats_df.isnull().sum())\n",
        "print(\"\\nMissing Values in pokedex Dataset:\")\n",
        "print(pokedex_df.isnull().sum())\n",
        "print(\"\\nMissing Values in Tests Dataset:\")\n",
        "print(tests_df.isnull().sum())"
      ]
    },
    {
      "cell_type": "code",
      "source": [
        "data_types = pokedex_df.dtypes.reset_index()\n",
        "data_types.columns = ['Feature', 'Type']\n",
        "\n",
        "# Afficher le tableau\n",
        "print(\"\\nData Types:\")\n",
        "print(data_types)"
      ],
      "metadata": {
        "colab": {
          "base_uri": "https://localhost:8080/"
        },
        "id": "Dp19z51YX6xD",
        "outputId": "107e7e7b-c447-45c7-ec2a-f8f62f1d5d5b"
      },
      "execution_count": null,
      "outputs": [
        {
          "output_type": "stream",
          "name": "stdout",
          "text": [
            "\n",
            "Data Types:\n",
            "                    Feature    Type\n",
            "0                    NUMERO   int64\n",
            "1                       NOM  object\n",
            "2                    TYPE_1  object\n",
            "3                    TYPE_2  object\n",
            "4             POINTS_DE_VIE   int64\n",
            "5            POINTS_ATTAQUE   int64\n",
            "6           POINTS_DEFFENCE   int64\n",
            "7   POINTS_ATTAQUE_SPECIALE   int64\n",
            "8    POINT_DEFENSE_SPECIALE   int64\n",
            "9            POINTS_VITESSE   int64\n",
            "10       NOMBRE_GENERATIONS   int64\n",
            "11               LEGENDAIRE  object\n"
          ]
        }
      ]
    },
    {
      "cell_type": "code",
      "source": [
        "# Transformer la colonne Légendaire en valeurs 0 (FAUX) et 1 (VRAI)\n",
        "print(pokedex_df.columns)\n",
        "\n",
        "pokedex_df['LEGENDAIRE'] = pokedex_df['LEGENDAIRE'].apply(lambda x: 1 if x else 0)"
      ],
      "metadata": {
        "colab": {
          "base_uri": "https://localhost:8080/"
        },
        "id": "o3rsg4I_Tl8f",
        "outputId": "27c44581-fed7-4561-a5d1-6cc6ce6dcd91"
      },
      "execution_count": null,
      "outputs": [
        {
          "output_type": "stream",
          "name": "stdout",
          "text": [
            "Index(['NUMERO', 'NOM', 'TYPE_1', 'TYPE_2', 'POINTS_DE_VIE', 'POINTS_ATTAQUE',\n",
            "       'POINTS_DEFFENCE', 'POINTS_ATTAQUE_SPECIALE', 'POINT_DEFENSE_SPECIALE',\n",
            "       'POINTS_VITESSE', 'NOMBRE_GENERATIONS', 'LEGENDAIRE'],\n",
            "      dtype='object')\n"
          ]
        }
      ]
    },
    {
      "cell_type": "code",
      "source": [
        "nombre_observations = pokedex_df.shape[0]\n",
        "print(f'Nombre d\\'observations : {nombre_observations}')"
      ],
      "metadata": {
        "colab": {
          "base_uri": "https://localhost:8080/"
        },
        "id": "1VShI-NUZiWO",
        "outputId": "d282308a-283e-493a-b657-85fee67eee25"
      },
      "execution_count": null,
      "outputs": [
        {
          "output_type": "stream",
          "name": "stdout",
          "text": [
            "Nombre d'observations : 800\n"
          ]
        }
      ]
    },
    {
      "cell_type": "code",
      "source": [
        "# Description des données\n",
        "print(pokedex_df.describe())\n"
      ],
      "metadata": {
        "colab": {
          "base_uri": "https://localhost:8080/"
        },
        "id": "u5MowT8xZjqd",
        "outputId": "b125876d-d70b-4f5a-9aef-fcb674a01b4c"
      },
      "execution_count": null,
      "outputs": [
        {
          "output_type": "stream",
          "name": "stdout",
          "text": [
            "         NUMERO  POINTS_DE_VIE  POINTS_ATTAQUE  POINTS_DEFFENCE  \\\n",
            "count  800.0000     800.000000      800.000000       800.000000   \n",
            "mean   400.5000      69.258750       79.001250        73.842500   \n",
            "std    231.0844      25.534669       32.457366        31.183501   \n",
            "min      1.0000       1.000000        5.000000         5.000000   \n",
            "25%    200.7500      50.000000       55.000000        50.000000   \n",
            "50%    400.5000      65.000000       75.000000        70.000000   \n",
            "75%    600.2500      80.000000      100.000000        90.000000   \n",
            "max    800.0000     255.000000      190.000000       230.000000   \n",
            "\n",
            "       POINTS_ATTAQUE_SPECIALE  POINT_DEFENSE_SPECIALE  POINTS_VITESSE  \\\n",
            "count               800.000000              800.000000      800.000000   \n",
            "mean                 72.820000               71.902500       68.277500   \n",
            "std                  32.722294               27.828916       29.060474   \n",
            "min                  10.000000               20.000000        5.000000   \n",
            "25%                  49.750000               50.000000       45.000000   \n",
            "50%                  65.000000               70.000000       65.000000   \n",
            "75%                  95.000000               90.000000       90.000000   \n",
            "max                 194.000000              230.000000      180.000000   \n",
            "\n",
            "       NOMBRE_GENERATIONS  LEGENDAIRE  \n",
            "count           800.00000       800.0  \n",
            "mean              3.32375         1.0  \n",
            "std               1.66129         0.0  \n",
            "min               1.00000         1.0  \n",
            "25%               2.00000         1.0  \n",
            "50%               3.00000         1.0  \n",
            "75%               5.00000         1.0  \n",
            "max               6.00000         1.0  \n"
          ]
        }
      ]
    },
    {
      "cell_type": "code",
      "source": [
        "# Informations sur le jeu de données\n",
        "print(pokedex_df.info())"
      ],
      "metadata": {
        "colab": {
          "base_uri": "https://localhost:8080/"
        },
        "id": "Jr3wQ3TpZm18",
        "outputId": "22d8465d-4fb9-44c4-8eae-517fc97c58fa"
      },
      "execution_count": null,
      "outputs": [
        {
          "output_type": "stream",
          "name": "stdout",
          "text": [
            "<class 'pandas.core.frame.DataFrame'>\n",
            "RangeIndex: 800 entries, 0 to 799\n",
            "Data columns (total 12 columns):\n",
            " #   Column                   Non-Null Count  Dtype \n",
            "---  ------                   --------------  ----- \n",
            " 0   NUMERO                   800 non-null    int64 \n",
            " 1   NOM                      799 non-null    object\n",
            " 2   TYPE_1                   800 non-null    object\n",
            " 3   TYPE_2                   413 non-null    object\n",
            " 4   POINTS_DE_VIE            800 non-null    int64 \n",
            " 5   POINTS_ATTAQUE           800 non-null    int64 \n",
            " 6   POINTS_DEFFENCE          800 non-null    int64 \n",
            " 7   POINTS_ATTAQUE_SPECIALE  800 non-null    int64 \n",
            " 8   POINT_DEFENSE_SPECIALE   800 non-null    int64 \n",
            " 9   POINTS_VITESSE           800 non-null    int64 \n",
            " 10  NOMBRE_GENERATIONS       800 non-null    int64 \n",
            " 11  LEGENDAIRE               800 non-null    int64 \n",
            "dtypes: int64(9), object(3)\n",
            "memory usage: 75.1+ KB\n",
            "None\n"
          ]
        }
      ]
    },
    {
      "cell_type": "code",
      "source": [
        "valeurs_manquantes = pokedex_df.isnull().sum()\n",
        "print(valeurs_manquantes[valeurs_manquantes > 0])\n",
        "# Trouver les Pokémon sans nom\n",
        "pokemon_sans_nom = pokedex_df[pokedex_df['NOM'].isnull()]\n",
        "print(pokemon_sans_nom)"
      ],
      "metadata": {
        "colab": {
          "base_uri": "https://localhost:8080/"
        },
        "id": "-YAJcB8wZsDF",
        "outputId": "4074b255-15c3-414c-e60e-e932cd98e6a2"
      },
      "execution_count": null,
      "outputs": [
        {
          "output_type": "stream",
          "name": "stdout",
          "text": [
            "NOM         1\n",
            "TYPE_2    387\n",
            "dtype: int64\n",
            "    NUMERO  NOM  TYPE_1 TYPE_2  POINTS_DE_VIE  POINTS_ATTAQUE  \\\n",
            "62      63  NaN  Combat    NaN             65             105   \n",
            "\n",
            "    POINTS_DEFFENCE  POINTS_ATTAQUE_SPECIALE  POINT_DEFENSE_SPECIALE  \\\n",
            "62               60                       60                      70   \n",
            "\n",
            "    POINTS_VITESSE  NOMBRE_GENERATIONS  LEGENDAIRE  \n",
            "62              95                   1           1  \n"
          ]
        }
      ]
    },
    {
      "cell_type": "code",
      "source": [
        "\n",
        "pokedex_df = pokedex_df[pokedex_df['NOM'].notna()]\n",
        "\n",
        "pokedex_df.fillna({'TYPE_2': 'Unknown'}, inplace=True)\n"
      ],
      "metadata": {
        "id": "Mu-eGDRoZ7IF"
      },
      "execution_count": null,
      "outputs": []
    },
    {
      "cell_type": "markdown",
      "source": [
        "## Partie 2 : Observations des **combats**"
      ],
      "metadata": {
        "id": "MKAuoJBFbMwF"
      }
    },
    {
      "cell_type": "code",
      "source": [
        "\n",
        "print(combats_df.columns)\n",
        "print(combats_df.head(10))\n",
        "types = combats_df.dtypes.reset_index()\n"
      ],
      "metadata": {
        "colab": {
          "base_uri": "https://localhost:8080/"
        },
        "id": "NMyOBMltbPg0",
        "outputId": "680938db-aad9-4aba-e72c-013309bff67a"
      },
      "execution_count": null,
      "outputs": [
        {
          "output_type": "stream",
          "name": "stdout",
          "text": [
            "Index(['First_pokemon', 'Second_pokemon', 'Winner'], dtype='object')\n",
            "   First_pokemon  Second_pokemon  Winner\n",
            "0            266             298     298\n",
            "1            702             701     701\n",
            "2            191             668     668\n",
            "3            237             683     683\n",
            "4            151             231     151\n",
            "5            657             752     657\n",
            "6            192             134     134\n",
            "7             73             545     545\n",
            "8            220             763     763\n",
            "9            302              31      31\n",
            "          Feature   Type\n",
            "0   First_pokemon  int64\n",
            "1  Second_pokemon  int64\n",
            "2          Winner  int64\n"
          ]
        }
      ]
    },
    {
      "cell_type": "code",
      "source": [
        "types.columns = ['Feature', 'Type']\n",
        "print(types)"
      ],
      "metadata": {
        "colab": {
          "base_uri": "https://localhost:8080/"
        },
        "id": "PdCnv2R-bzlM",
        "outputId": "288e8979-c018-4bfd-ae7a-fc5decc663be"
      },
      "execution_count": null,
      "outputs": [
        {
          "output_type": "stream",
          "name": "stdout",
          "text": [
            "          Feature   Type\n",
            "0   First_pokemon  int64\n",
            "1  Second_pokemon  int64\n",
            "2          Winner  int64\n"
          ]
        }
      ]
    },
    {
      "cell_type": "code",
      "source": [
        "\n",
        "nombre_combats = combats_df.shape[0]\n",
        "print(f'Nombre de combats : {nombre_combats}')\n",
        "print(combats_df.info())\n",
        "valeurs_manquantes_combats = combats_df.isnull().sum()\n",
        "print(valeurs_manquantes_combats[valeurs_manquantes_combats > 0])\n"
      ],
      "metadata": {
        "colab": {
          "base_uri": "https://localhost:8080/"
        },
        "id": "Lllua4OqcF-l",
        "outputId": "0a5e38cf-bb5e-4b35-ee75-d1ba7234f998"
      },
      "execution_count": null,
      "outputs": [
        {
          "output_type": "stream",
          "name": "stdout",
          "text": [
            "Nombre de combats : 50000\n",
            "<class 'pandas.core.frame.DataFrame'>\n",
            "RangeIndex: 50000 entries, 0 to 49999\n",
            "Data columns (total 3 columns):\n",
            " #   Column          Non-Null Count  Dtype\n",
            "---  ------          --------------  -----\n",
            " 0   First_pokemon   50000 non-null  int64\n",
            " 1   Second_pokemon  50000 non-null  int64\n",
            " 2   Winner          50000 non-null  int64\n",
            "dtypes: int64(3)\n",
            "memory usage: 1.1 MB\n",
            "None\n",
            "Series([], dtype: int64)\n"
          ]
        }
      ]
    },
    {
      "cell_type": "code",
      "source": [
        "# Calculer le nombre de combats menés par chaque Pokémon\n",
        "combats_count = combats_df['First_pokemon'].value_counts() + combats_df['Second_pokemon'].value_counts()\n",
        "print(combats_count.head(10))\n"
      ],
      "metadata": {
        "colab": {
          "base_uri": "https://localhost:8080/"
        },
        "id": "lG8moR-Icie9",
        "outputId": "8e467255-1704-480e-89c6-c62fcce100b6"
      },
      "execution_count": null,
      "outputs": [
        {
          "output_type": "stream",
          "name": "stdout",
          "text": [
            "1     133\n",
            "2     121\n",
            "3     132\n",
            "4     125\n",
            "5     112\n",
            "6     118\n",
            "7     133\n",
            "8     139\n",
            "9     135\n",
            "10    117\n",
            "Name: count, dtype: int64\n"
          ]
        }
      ]
    },
    {
      "cell_type": "code",
      "source": [
        "# Calculer le nombre de combats gagnés par chaque Pokémon\n",
        "victories_count = combats_df['Winner'].value_counts()\n",
        "print(victories_count.head(10))\n"
      ],
      "metadata": {
        "colab": {
          "base_uri": "https://localhost:8080/"
        },
        "id": "SIZxX0a3c4Ud",
        "outputId": "114cb6be-9c86-4df5-83de-e914ad641120"
      },
      "execution_count": null,
      "outputs": [
        {
          "output_type": "stream",
          "name": "stdout",
          "text": [
            "Winner\n",
            "163    152\n",
            "438    136\n",
            "154    136\n",
            "428    134\n",
            "314    133\n",
            "432    133\n",
            "214    130\n",
            "394    130\n",
            "249    128\n",
            "155    127\n",
            "Name: count, dtype: int64\n"
          ]
        }
      ]
    },
    {
      "cell_type": "code",
      "source": [
        "# Identifier le Pokémon avec le plus de victoires\n",
        "pokemon_max_victoires = victories_count.idxmax()\n",
        "print(f'Le Pokémon qui a gagné le plus de combats : {pokemon_max_victoires}')\n"
      ],
      "metadata": {
        "colab": {
          "base_uri": "https://localhost:8080/"
        },
        "id": "0c-lI28XdL8q",
        "outputId": "1a16ad03-8889-44ef-91bf-cf09ace0b174"
      },
      "execution_count": null,
      "outputs": [
        {
          "output_type": "stream",
          "name": "stdout",
          "text": [
            "Le Pokémon qui a gagné le plus de combats : 163\n"
          ]
        }
      ]
    },
    {
      "cell_type": "code",
      "source": [
        "# Trouver les Pokémon n'ayant jamais gagné\n",
        "pokemon_no_victory = combats_count.index.difference(victories_count.index)\n",
        "print(f'Pokémons n\\'ayant jamais gagné : {pokemon_no_victory.tolist()}')\n"
      ],
      "metadata": {
        "colab": {
          "base_uri": "https://localhost:8080/"
        },
        "id": "no9PZKwGdOPj",
        "outputId": "4b798636-aa3a-4c26-f77d-2e842c4f2cba"
      },
      "execution_count": null,
      "outputs": [
        {
          "output_type": "stream",
          "name": "stdout",
          "text": [
            "Pokémons n'ayant jamais gagné : [231]\n"
          ]
        }
      ]
    },
    {
      "cell_type": "code",
      "source": [
        "# Créer un DataFrame avec les numéros des Pokémon, le nombre de combats menés et le nombre de combats gagnés\n",
        "pokedex_stats = pd.DataFrame({\n",
        "    'Pokemon_Number': combats_count.index,\n",
        "    'Combats_Menes': combats_count.values,\n",
        "    'Combats_Gagnes': victories_count.reindex(combats_count.index, fill_value=0).values  # Remplir avec 0 si pas de victoires\n",
        "})\n",
        "\n",
        "# Calculer le pourcentage de victoires\n",
        "pokedex_stats['Pourcentage_Victoires'] = (pokedex_stats['Combats_Gagnes'] / pokedex_stats['Combats_Menes'].replace(0, 1)) * 100\n",
        "\n",
        "# Afficher les 10 premiers Pokémon avec leurs statistiques\n",
        "print(pokedex_stats.head(10))"
      ],
      "metadata": {
        "colab": {
          "base_uri": "https://localhost:8080/"
        },
        "id": "K2kfdfynd5fc",
        "outputId": "e8b54d82-60db-41d9-b869-56c3dfdd7081"
      },
      "execution_count": null,
      "outputs": [
        {
          "output_type": "stream",
          "name": "stdout",
          "text": [
            "   Pokemon_Number  Combats_Menes  Combats_Gagnes  Pourcentage_Victoires\n",
            "0               1            133              37              27.819549\n",
            "1               2            121              46              38.016529\n",
            "2               3            132              89              67.424242\n",
            "3               4            125              70              56.000000\n",
            "4               5            112              55              49.107143\n",
            "5               6            118              64              54.237288\n",
            "6               7            133             115              86.466165\n",
            "7               8            139             119              85.611511\n",
            "8               9            135             114              84.444444\n",
            "9              10            117              19              16.239316\n"
          ]
        }
      ]
    },
    {
      "cell_type": "code",
      "source": [
        "# Fusionner le DataFrame des statistiques avec le Pokédex pour obtenir les noms des Pokémon\n",
        "pokedex_merged = pokedex_df[['NUMERO', 'NOM']].rename(columns={'NUMERO': 'Pokemon_Number'})\n",
        "pokedex_merged = pd.merge(pokedex_merged, pokedex_stats, on='Pokemon_Number', how='left')\n",
        "\n",
        "# Afficher le nouveau Pokédex avec noms et victoires\n",
        "print(pokedex_merged[['NOM', 'Combats_Menes', 'Combats_Gagnes', 'Pourcentage_Victoires']].head(10))\n"
      ],
      "metadata": {
        "colab": {
          "base_uri": "https://localhost:8080/"
        },
        "id": "r0GLZahceH1i",
        "outputId": "cd6908bd-55c1-4dc9-bc46-21cc2c20879c"
      },
      "execution_count": null,
      "outputs": [
        {
          "output_type": "stream",
          "name": "stdout",
          "text": [
            "                NOM  Combats_Menes  Combats_Gagnes  Pourcentage_Victoires\n",
            "0        Bulbizarre          133.0            37.0              27.819549\n",
            "1        Herbizarre          121.0            46.0              38.016529\n",
            "2        Florizarre          132.0            89.0              67.424242\n",
            "3   Mega Florizarre          125.0            70.0              56.000000\n",
            "4         Salamèche          112.0            55.0              49.107143\n",
            "5         Reptincel          118.0            64.0              54.237288\n",
            "6         Dracaufeu          133.0           115.0              86.466165\n",
            "7  Mega Dracaufeu X          139.0           119.0              85.611511\n",
            "8  Mega Dracaufeu Y          135.0           114.0              84.444444\n",
            "9          Carapuce          117.0            19.0              16.239316\n"
          ]
        }
      ]
    }
  ]
}